{
 "cells": [
  {
   "cell_type": "code",
   "execution_count": 1,
   "metadata": {},
   "outputs": [],
   "source": [
    "import numpy as np\n",
    "import pandas as pd\n",
    "import cv2\n",
    "from matplotlib import pyplot as plt"
   ]
  },
  {
   "cell_type": "code",
   "execution_count": 2,
   "metadata": {},
   "outputs": [],
   "source": [
    "def add_status(train):\n",
    "    \n",
    "    # It has been done this wah in order to avoid unnecessary warnings\n",
    "    train['status'] = 0\n",
    "    train['label'] = 0\n",
    "    \n",
    "    train.loc[train.healthy == 1, 'status'] = 'healthy'\n",
    "    train.loc[train.healthy == 1, 'label'] = 0\n",
    "    train.loc[train.multiple_diseases == 1, 'status'] = 'multiple_diseases'\n",
    "    train.loc[train.multiple_diseases == 1, 'label'] = 1\n",
    "    train.loc[train.rust == 1, 'status'] = 'rust'\n",
    "    train.loc[train.rust == 1, 'label'] = 2\n",
    "    train.loc[train.scab == 1, 'status'] = 'scab'\n",
    "    train.loc[train.scab == 1, 'label'] = 3\n",
    "    \n",
    "    return train"
   ]
  },
  {
   "cell_type": "code",
   "execution_count": 3,
   "metadata": {},
   "outputs": [],
   "source": [
    "def load_images(train, directory):\n",
    "    \n",
    "    # This function loads the images, resizes them and puts them into an array\n",
    "    \n",
    "    img_size = 448\n",
    "    train_image = []\n",
    "    for name in train['image_id']:\n",
    "        path = directory + 'images/' + name + '.jpg'\n",
    "        img = cv2.imread(path)\n",
    "        image = cv2.resize(img, (img_size, img_size))\n",
    "        train_image.append(image)\n",
    "    train_image_array = np.array(train_image)\n",
    "    \n",
    "    return train_image_array"
   ]
  },
  {
   "cell_type": "code",
   "execution_count": 4,
   "metadata": {},
   "outputs": [],
   "source": [
    "def save_images(folder_name, x, y):\n",
    "    healthy_count = 0\n",
    "    multiple_diseases_count = 0\n",
    "    rust_count = 0\n",
    "    scab_count = 0\n",
    "\n",
    "    for i in range(0, len(x)):\n",
    "        if y[i] == 0:\n",
    "            healthy_count += 1\n",
    "            name = 'healthy_' + str(healthy_count) + '.jpg'\n",
    "            cv2.imwrite(folder_name + 'healthy/' + name, x[i])\n",
    "        elif y[i] == 1:\n",
    "            multiple_diseases_count +=1\n",
    "            name = 'multiple_diseases_' + str(multiple_diseases_count) + '.jpg'\n",
    "            cv2.imwrite(folder_name + 'multiple_diseases/' + name, x[i])\n",
    "        elif y[i] == 2:\n",
    "            rust_count +=1\n",
    "            name = 'rust_' + str(rust_count) + '.jpg'\n",
    "            cv2.imwrite(folder_name + 'rust/' + name, x[i])\n",
    "        elif y[i] == 3:\n",
    "            scab_count +=1\n",
    "            name = 'scab_' + str(scab_count) + '.jpg'\n",
    "            cv2.imwrite(folder_name + 'scab/' + name, x[i])"
   ]
  },
  {
   "cell_type": "code",
   "execution_count": 5,
   "metadata": {},
   "outputs": [],
   "source": [
    "def make_folders():\n",
    "    import os\n",
    "    classes = ['healthy', 'multiple_diseases', 'rust', 'scab']\n",
    "    os.mkdir('./image_generator')\n",
    "    os.mkdir('./image_generator/train')\n",
    "    for cls in classes:\n",
    "        os.mkdir('./image_generator/train/' + cls )\n",
    "    os.mkdir('./image_generator/validation')\n",
    "    for cls in classes:\n",
    "        os.mkdir('./image_generator/validation/' + cls )"
   ]
  },
  {
   "cell_type": "code",
   "execution_count": 6,
   "metadata": {},
   "outputs": [],
   "source": [
    "directory = ''\n",
    "df_train = pd.read_csv(directory + 'train.csv')\n",
    "df_train = add_status(df_train)\n",
    "train_img = load_images(df_train, directory)\n",
    "make_folders()"
   ]
  },
  {
   "cell_type": "code",
   "execution_count": 7,
   "metadata": {},
   "outputs": [],
   "source": [
    "from sklearn.model_selection import train_test_split\n",
    "\n",
    "x_train, x_val, y_train, y_val = train_test_split(train_img, df_train['label'].to_numpy(), \n",
    "                                                  stratify = df_train['label'].to_numpy(), test_size = 0.2)\n",
    "\n"
   ]
  },
  {
   "cell_type": "code",
   "execution_count": 8,
   "metadata": {},
   "outputs": [],
   "source": [
    "save_images('./image_generator/train/', x_train, y_train)\n",
    "save_images('./image_generator/validation/', x_val, y_val)"
   ]
  }
 ],
 "metadata": {
  "kernelspec": {
   "display_name": "Python 3",
   "language": "python",
   "name": "python3"
  },
  "language_info": {
   "codemirror_mode": {
    "name": "ipython",
    "version": 3
   },
   "file_extension": ".py",
   "mimetype": "text/x-python",
   "name": "python",
   "nbconvert_exporter": "python",
   "pygments_lexer": "ipython3",
   "version": "3.7.4"
  }
 },
 "nbformat": 4,
 "nbformat_minor": 4
}
